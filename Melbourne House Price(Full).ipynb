{
 "cells": [
  {
   "cell_type": "code",
   "execution_count": 2,
   "id": "30cd39c0",
   "metadata": {},
   "outputs": [],
   "source": [
    "import numpy as np\n",
    "import pandas as pd\n",
    "import seaborn as sns\n",
    "import matplotlib.pyplot as plt\n",
    "\n",
    "import warnings\n",
    "warnings.filterwarnings('ignore')"
   ]
  },
  {
   "cell_type": "code",
   "execution_count": 3,
   "id": "efee4c44",
   "metadata": {},
   "outputs": [
    {
     "data": {
      "text/html": [
       "<div>\n",
       "<style scoped>\n",
       "    .dataframe tbody tr th:only-of-type {\n",
       "        vertical-align: middle;\n",
       "    }\n",
       "\n",
       "    .dataframe tbody tr th {\n",
       "        vertical-align: top;\n",
       "    }\n",
       "\n",
       "    .dataframe thead th {\n",
       "        text-align: right;\n",
       "    }\n",
       "</style>\n",
       "<table border=\"1\" class=\"dataframe\">\n",
       "  <thead>\n",
       "    <tr style=\"text-align: right;\">\n",
       "      <th></th>\n",
       "      <th>Suburb</th>\n",
       "      <th>Address</th>\n",
       "      <th>Rooms</th>\n",
       "      <th>Type</th>\n",
       "      <th>Price</th>\n",
       "      <th>Method</th>\n",
       "      <th>SellerG</th>\n",
       "      <th>Date</th>\n",
       "      <th>Distance</th>\n",
       "      <th>Postcode</th>\n",
       "      <th>...</th>\n",
       "      <th>Bathroom</th>\n",
       "      <th>Car</th>\n",
       "      <th>Landsize</th>\n",
       "      <th>BuildingArea</th>\n",
       "      <th>YearBuilt</th>\n",
       "      <th>CouncilArea</th>\n",
       "      <th>Lattitude</th>\n",
       "      <th>Longtitude</th>\n",
       "      <th>Regionname</th>\n",
       "      <th>Propertycount</th>\n",
       "    </tr>\n",
       "  </thead>\n",
       "  <tbody>\n",
       "    <tr>\n",
       "      <th>0</th>\n",
       "      <td>Abbotsford</td>\n",
       "      <td>68 Studley St</td>\n",
       "      <td>2</td>\n",
       "      <td>h</td>\n",
       "      <td>NaN</td>\n",
       "      <td>SS</td>\n",
       "      <td>Jellis</td>\n",
       "      <td>3/09/2016</td>\n",
       "      <td>2.5</td>\n",
       "      <td>3067.0</td>\n",
       "      <td>...</td>\n",
       "      <td>1.0</td>\n",
       "      <td>1.0</td>\n",
       "      <td>126.0</td>\n",
       "      <td>NaN</td>\n",
       "      <td>NaN</td>\n",
       "      <td>Yarra City Council</td>\n",
       "      <td>-37.8014</td>\n",
       "      <td>144.9958</td>\n",
       "      <td>Northern Metropolitan</td>\n",
       "      <td>4019.0</td>\n",
       "    </tr>\n",
       "    <tr>\n",
       "      <th>1</th>\n",
       "      <td>Abbotsford</td>\n",
       "      <td>85 Turner St</td>\n",
       "      <td>2</td>\n",
       "      <td>h</td>\n",
       "      <td>1480000.0</td>\n",
       "      <td>S</td>\n",
       "      <td>Biggin</td>\n",
       "      <td>3/12/2016</td>\n",
       "      <td>2.5</td>\n",
       "      <td>3067.0</td>\n",
       "      <td>...</td>\n",
       "      <td>1.0</td>\n",
       "      <td>1.0</td>\n",
       "      <td>202.0</td>\n",
       "      <td>NaN</td>\n",
       "      <td>NaN</td>\n",
       "      <td>Yarra City Council</td>\n",
       "      <td>-37.7996</td>\n",
       "      <td>144.9984</td>\n",
       "      <td>Northern Metropolitan</td>\n",
       "      <td>4019.0</td>\n",
       "    </tr>\n",
       "    <tr>\n",
       "      <th>2</th>\n",
       "      <td>Abbotsford</td>\n",
       "      <td>25 Bloomburg St</td>\n",
       "      <td>2</td>\n",
       "      <td>h</td>\n",
       "      <td>1035000.0</td>\n",
       "      <td>S</td>\n",
       "      <td>Biggin</td>\n",
       "      <td>4/02/2016</td>\n",
       "      <td>2.5</td>\n",
       "      <td>3067.0</td>\n",
       "      <td>...</td>\n",
       "      <td>1.0</td>\n",
       "      <td>0.0</td>\n",
       "      <td>156.0</td>\n",
       "      <td>79.0</td>\n",
       "      <td>1900.0</td>\n",
       "      <td>Yarra City Council</td>\n",
       "      <td>-37.8079</td>\n",
       "      <td>144.9934</td>\n",
       "      <td>Northern Metropolitan</td>\n",
       "      <td>4019.0</td>\n",
       "    </tr>\n",
       "    <tr>\n",
       "      <th>3</th>\n",
       "      <td>Abbotsford</td>\n",
       "      <td>18/659 Victoria St</td>\n",
       "      <td>3</td>\n",
       "      <td>u</td>\n",
       "      <td>NaN</td>\n",
       "      <td>VB</td>\n",
       "      <td>Rounds</td>\n",
       "      <td>4/02/2016</td>\n",
       "      <td>2.5</td>\n",
       "      <td>3067.0</td>\n",
       "      <td>...</td>\n",
       "      <td>2.0</td>\n",
       "      <td>1.0</td>\n",
       "      <td>0.0</td>\n",
       "      <td>NaN</td>\n",
       "      <td>NaN</td>\n",
       "      <td>Yarra City Council</td>\n",
       "      <td>-37.8114</td>\n",
       "      <td>145.0116</td>\n",
       "      <td>Northern Metropolitan</td>\n",
       "      <td>4019.0</td>\n",
       "    </tr>\n",
       "    <tr>\n",
       "      <th>4</th>\n",
       "      <td>Abbotsford</td>\n",
       "      <td>5 Charles St</td>\n",
       "      <td>3</td>\n",
       "      <td>h</td>\n",
       "      <td>1465000.0</td>\n",
       "      <td>SP</td>\n",
       "      <td>Biggin</td>\n",
       "      <td>4/03/2017</td>\n",
       "      <td>2.5</td>\n",
       "      <td>3067.0</td>\n",
       "      <td>...</td>\n",
       "      <td>2.0</td>\n",
       "      <td>0.0</td>\n",
       "      <td>134.0</td>\n",
       "      <td>150.0</td>\n",
       "      <td>1900.0</td>\n",
       "      <td>Yarra City Council</td>\n",
       "      <td>-37.8093</td>\n",
       "      <td>144.9944</td>\n",
       "      <td>Northern Metropolitan</td>\n",
       "      <td>4019.0</td>\n",
       "    </tr>\n",
       "  </tbody>\n",
       "</table>\n",
       "<p>5 rows × 21 columns</p>\n",
       "</div>"
      ],
      "text/plain": [
       "       Suburb             Address  Rooms Type      Price Method SellerG  \\\n",
       "0  Abbotsford       68 Studley St      2    h        NaN     SS  Jellis   \n",
       "1  Abbotsford        85 Turner St      2    h  1480000.0      S  Biggin   \n",
       "2  Abbotsford     25 Bloomburg St      2    h  1035000.0      S  Biggin   \n",
       "3  Abbotsford  18/659 Victoria St      3    u        NaN     VB  Rounds   \n",
       "4  Abbotsford        5 Charles St      3    h  1465000.0     SP  Biggin   \n",
       "\n",
       "        Date  Distance  Postcode  ...  Bathroom  Car  Landsize  BuildingArea  \\\n",
       "0  3/09/2016       2.5    3067.0  ...       1.0  1.0     126.0           NaN   \n",
       "1  3/12/2016       2.5    3067.0  ...       1.0  1.0     202.0           NaN   \n",
       "2  4/02/2016       2.5    3067.0  ...       1.0  0.0     156.0          79.0   \n",
       "3  4/02/2016       2.5    3067.0  ...       2.0  1.0       0.0           NaN   \n",
       "4  4/03/2017       2.5    3067.0  ...       2.0  0.0     134.0         150.0   \n",
       "\n",
       "   YearBuilt         CouncilArea Lattitude  Longtitude             Regionname  \\\n",
       "0        NaN  Yarra City Council  -37.8014    144.9958  Northern Metropolitan   \n",
       "1        NaN  Yarra City Council  -37.7996    144.9984  Northern Metropolitan   \n",
       "2     1900.0  Yarra City Council  -37.8079    144.9934  Northern Metropolitan   \n",
       "3        NaN  Yarra City Council  -37.8114    145.0116  Northern Metropolitan   \n",
       "4     1900.0  Yarra City Council  -37.8093    144.9944  Northern Metropolitan   \n",
       "\n",
       "  Propertycount  \n",
       "0        4019.0  \n",
       "1        4019.0  \n",
       "2        4019.0  \n",
       "3        4019.0  \n",
       "4        4019.0  \n",
       "\n",
       "[5 rows x 21 columns]"
      ]
     },
     "execution_count": 3,
     "metadata": {},
     "output_type": "execute_result"
    }
   ],
   "source": [
    "df = pd.read_csv('Melbourne_housing_FULL.csv')\n",
    "df.head()"
   ]
  },
  {
   "cell_type": "code",
   "execution_count": 17,
   "id": "4002edbb",
   "metadata": {},
   "outputs": [
    {
     "name": "stdout",
     "output_type": "stream",
     "text": [
      "<class 'pandas.core.frame.DataFrame'>\n",
      "Int64Index: 34855 entries, 0 to 34856\n",
      "Data columns (total 21 columns):\n",
      " #   Column         Non-Null Count  Dtype         \n",
      "---  ------         --------------  -----         \n",
      " 0   Suburb         34855 non-null  object        \n",
      " 1   Address        34855 non-null  object        \n",
      " 2   Rooms          34855 non-null  int64         \n",
      " 3   Type           34855 non-null  object        \n",
      " 4   Price          27247 non-null  float64       \n",
      " 5   Method         34855 non-null  object        \n",
      " 6   SellerG        34855 non-null  object        \n",
      " 7   Date           34855 non-null  datetime64[ns]\n",
      " 8   Distance       34854 non-null  float64       \n",
      " 9   Postcode       34854 non-null  float64       \n",
      " 10  Bedroom2       26638 non-null  float64       \n",
      " 11  Bathroom       26629 non-null  float64       \n",
      " 12  Car            26127 non-null  float64       \n",
      " 13  Landsize       23045 non-null  float64       \n",
      " 14  BuildingArea   13740 non-null  float64       \n",
      " 15  YearBuilt      15549 non-null  float64       \n",
      " 16  CouncilArea    34852 non-null  object        \n",
      " 17  Lattitude      26879 non-null  float64       \n",
      " 18  Longtitude     26879 non-null  float64       \n",
      " 19  Regionname     34852 non-null  object        \n",
      " 20  Propertycount  34852 non-null  float64       \n",
      "dtypes: datetime64[ns](1), float64(12), int64(1), object(7)\n",
      "memory usage: 5.9+ MB\n"
     ]
    }
   ],
   "source": [
    "df.info()"
   ]
  },
  {
   "cell_type": "code",
   "execution_count": 6,
   "id": "2e2091e1",
   "metadata": {},
   "outputs": [
    {
     "data": {
      "text/plain": [
       "Suburb               0\n",
       "Address              0\n",
       "Rooms                0\n",
       "Type                 0\n",
       "Price             7610\n",
       "Method               0\n",
       "SellerG              0\n",
       "Date                 0\n",
       "Distance             1\n",
       "Postcode             1\n",
       "Bedroom2          8217\n",
       "Bathroom          8226\n",
       "Car               8728\n",
       "Landsize         11810\n",
       "BuildingArea     21115\n",
       "YearBuilt        19306\n",
       "CouncilArea          3\n",
       "Lattitude         7976\n",
       "Longtitude        7976\n",
       "Regionname           3\n",
       "Propertycount        3\n",
       "dtype: int64"
      ]
     },
     "execution_count": 6,
     "metadata": {},
     "output_type": "execute_result"
    }
   ],
   "source": [
    "df.isnull().sum()"
   ]
  },
  {
   "cell_type": "code",
   "execution_count": 7,
   "id": "39942687",
   "metadata": {},
   "outputs": [],
   "source": [
    "df.duplicated().sum()\n",
    "df.drop_duplicates(keep = False , inplace= True)"
   ]
  },
  {
   "cell_type": "code",
   "execution_count": 8,
   "id": "5b3acf1a",
   "metadata": {},
   "outputs": [],
   "source": [
    "# converts to a datetime feature\n",
    "df['Date'] = pd.to_datetime(df['Date'])"
   ]
  },
  {
   "cell_type": "code",
   "execution_count": 20,
   "id": "47799f74",
   "metadata": {},
   "outputs": [],
   "source": [
    "df.dropna(subset=['Price'], inplace=True)\n",
    "df.dropna(subset=['Longtitude'], inplace=True)\n",
    "df.dropna(subset=['Lattitude'], inplace=True)\n",
    "df.dropna(subset=['CouncilArea'], inplace=True)"
   ]
  },
  {
   "cell_type": "code",
   "execution_count": 21,
   "id": "7305772f",
   "metadata": {},
   "outputs": [],
   "source": [
    "df['Car'].fillna(df['Car'].value_counts().index[0], inplace= True)\n",
    "df['Landsize'].fillna(df['Landsize'].mean(), inplace= True)\n",
    "df['BuildingArea'].fillna(df['BuildingArea'].mean(), inplace= True)\n",
    "df['Distance'].fillna(df['Distance'].value_counts().index[0], inplace= True)\n",
    "df['Postcode'].fillna(df['Postcode'].value_counts().index[0], inplace= True)\n",
    "df['Regionname'].fillna(df['Regionname'].value_counts().index[0], inplace= True)\n",
    "df['Propertycount'].fillna(df['Propertycount'].value_counts().index[0], inplace= True)"
   ]
  },
  {
   "cell_type": "code",
   "execution_count": 22,
   "id": "0ed1e73c",
   "metadata": {},
   "outputs": [],
   "source": [
    "df.dropna(subset=['Bedroom2'], inplace=True)\n",
    "df.dropna(subset=['Bathroom'], inplace=True)\n",
    "df.dropna(subset=['YearBuilt'], inplace=True)"
   ]
  },
  {
   "cell_type": "code",
   "execution_count": 23,
   "id": "25eb44be",
   "metadata": {},
   "outputs": [],
   "source": [
    "#Detecting Outliers using IQR\n",
    "Outlier = []\n",
    "def IQR_Outliers(df):\n",
    "    Q1 = df.quantile(0.25)\n",
    "    Q3 = df.quantile(0.75)\n",
    "    IQR = Q3-Q1\n",
    "    Lower = Q1 - 1.5 * IQR\n",
    "    Upper = Q3 + 1.5 * IQR\n",
    "    for i in df:\n",
    "        if i > Upper or i < Lower:\n",
    "            Outlier.append(i)\n",
    "    print(\"Outliers:\", Outlier)"
   ]
  },
  {
   "cell_type": "code",
   "execution_count": 24,
   "id": "311ab1a1",
   "metadata": {},
   "outputs": [
    {
     "data": {
      "text/plain": [
       "<AxesSubplot:xlabel='Bedroom2'>"
      ]
     },
     "execution_count": 24,
     "metadata": {},
     "output_type": "execute_result"
    },
    {
     "data": {
      "image/png": "[encoded data removed]",
      "text/plain": [
       "<Figure size 432x288 with 1 Axes>"
      ]
     },
     "metadata": {
      "needs_background": "light"
     },
     "output_type": "display_data"
    }
   ],
   "source": [
    "sns.boxplot(df['Bedroom2'])"
   ]
  },
  {
   "cell_type": "code",
   "execution_count": 25,
   "id": "d5957c2c",
   "metadata": {},
   "outputs": [
    {
     "data": {
      "text/plain": [
       "<AxesSubplot:xlabel='Rooms'>"
      ]
     },
     "execution_count": 25,
     "metadata": {},
     "output_type": "execute_result"
    },
    {
     "data": {
      "image/png": "[encoded data removed]",
      "text/plain": [
       "<Figure size 432x288 with 1 Axes>"
      ]
     },
     "metadata": {
      "needs_background": "light"
     },
     "output_type": "display_data"
    }
   ],
   "source": [
    "sns.boxplot(df['Rooms'])"
   ]
  },
  {
   "cell_type": "code",
   "execution_count": 26,
   "id": "887d273f",
   "metadata": {},
   "outputs": [
    {
     "data": {
      "text/plain": [
       "<AxesSubplot:xlabel='Price'>"
      ]
     },
     "execution_count": 26,
     "metadata": {},
     "output_type": "execute_result"
    },
    {
     "data": {
      "image/png": "[encoded data removed]",
      "text/plain": [
       "<Figure size 432x288 with 1 Axes>"
      ]
     },
     "metadata": {
      "needs_background": "light"
     },
     "output_type": "display_data"
    }
   ],
   "source": [
    "sns.boxplot(df['Price'])"
   ]
  },
  {
   "cell_type": "code",
   "execution_count": 27,
   "id": "c0a66dbc",
   "metadata": {},
   "outputs": [
    {
     "data": {
      "text/plain": [
       "<AxesSubplot:xlabel='Distance'>"
      ]
     },
     "execution_count": 27,
     "metadata": {},
     "output_type": "execute_result"
    },
    {
     "data": {
      "image/png": "[encoded data removed]",
      "text/plain": [
       "<Figure size 432x288 with 1 Axes>"
      ]
     },
     "metadata": {
      "needs_background": "light"
     },
     "output_type": "display_data"
    }
   ],
   "source": [
    "sns.boxplot(df['Distance'])"
   ]
  },
  {
   "cell_type": "code",
   "execution_count": 28,
   "id": "dd29607b",
   "metadata": {},
   "outputs": [
    {
     "data": {
      "text/plain": [
       "<AxesSubplot:xlabel='Car'>"
      ]
     },
     "execution_count": 28,
     "metadata": {},
     "output_type": "execute_result"
    },
    {
     "data": {
      "image/png": "[encoded data removed]",
      "text/plain": [
       "<Figure size 432x288 with 1 Axes>"
      ]
     },
     "metadata": {
      "needs_background": "light"
     },
     "output_type": "display_data"
    }
   ],
   "source": [
    "sns.boxplot(df['Car'])"
   ]
  },
  {
   "cell_type": "code",
   "execution_count": 29,
   "id": "2006e62c",
   "metadata": {},
   "outputs": [
    {
     "data": {
      "text/plain": [
       "<AxesSubplot:xlabel='YearBuilt'>"
      ]
     },
     "execution_count": 29,
     "metadata": {},
     "output_type": "execute_result"
    },
    {
     "data": {
      "image/png": "[encoded data removed]",
      "text/plain": [
       "<Figure size 432x288 with 1 Axes>"
      ]
     },
     "metadata": {
      "needs_background": "light"
     },
     "output_type": "display_data"
    }
   ],
   "source": [
    "sns.boxplot(df['YearBuilt'])"
   ]
  },
  {
   "cell_type": "code",
   "execution_count": 30,
   "id": "6b5117dd",
   "metadata": {},
   "outputs": [
    {
     "data": {
      "image/png": "[encoded data removed]",
      "text/plain": [
       "<Figure size 432x288 with 1 Axes>"
      ]
     },
     "metadata": {
      "needs_background": "light"
     },
     "output_type": "display_data"
    }
   ],
   "source": [
    "#Dealing with Price Outliers\n",
    "#Median Imputation\n",
    "Q1 = df['Price'].quantile(0.25)\n",
    "Q3 = df['Price'].quantile(0.75)\n",
    "IQR = Q3-Q1\n",
    "Lower = Q1 - 1.5 * IQR\n",
    "Upper = Q3 + 1.5 * IQR\n",
    "med = np.median(df['Price'])\n",
    "for i in df['Price']:\n",
    "    if i > Upper or i < Lower:\n",
    "            df['Price'] = df['Price'].replace(i, med)\n",
    "sns.boxplot(df['Price'])\n",
    "plt.title(\"Box Plot after median imputation\")\n",
    "plt.show()   "
   ]
  },
  {
   "cell_type": "code",
   "execution_count": 31,
   "id": "af468ea1",
   "metadata": {},
   "outputs": [
    {
     "data": {
      "image/png": "[encoded data removed]",
      "text/plain": [
       "<Figure size 432x288 with 1 Axes>"
      ]
     },
     "metadata": {
      "needs_background": "light"
     },
     "output_type": "display_data"
    }
   ],
   "source": [
    "#Dealing with Rooms Outliers\n",
    "#Median Imputation\n",
    "Q1 = df['Rooms'].quantile(0.25)\n",
    "Q3 = df['Rooms'].quantile(0.75)\n",
    "IQR = Q3-Q1\n",
    "Lower = Q1 - 1.5 * IQR\n",
    "Upper = Q3 + 1.5 * IQR\n",
    "med = np.median(df['Rooms'])\n",
    "for i in df['Rooms']:\n",
    "    if i > Upper or i < Lower:\n",
    "            df['Rooms'] = df['Rooms'].replace(i, med)\n",
    "sns.boxplot(df['Rooms'])\n",
    "plt.title(\"Box Plot after median imputation\")\n",
    "plt.show()          "
   ]
  },
  {
   "cell_type": "code",
   "execution_count": 32,
   "id": "c9be1ea2",
   "metadata": {},
   "outputs": [
    {
     "data": {
      "image/png": "[encoded data removed]",
      "text/plain": [
       "<Figure size 432x288 with 1 Axes>"
      ]
     },
     "metadata": {
      "needs_background": "light"
     },
     "output_type": "display_data"
    }
   ],
   "source": [
    "#Dealing with Bedroom2 Outliers\n",
    "#Median Imputation\n",
    "Q1 = df['Bedroom2'].quantile(0.25)\n",
    "Q3 = df['Bedroom2'].quantile(0.75)\n",
    "IQR = Q3-Q1\n",
    "Lower = Q1 - 1.5 * IQR\n",
    "Upper = Q3 + 1.5 * IQR\n",
    "med = np.median(df['Bedroom2'])\n",
    "for i in df['Bedroom2']:\n",
    "    if i > Upper or i < Lower:\n",
    "            df['Bedroom2'] = df['Bedroom2'].replace(i, med)\n",
    "sns.boxplot(df['Bedroom2'])\n",
    "plt.title(\"Box Plot after median imputation\")\n",
    "plt.show()   "
   ]
  },
  {
   "cell_type": "code",
   "execution_count": 32,
   "id": "89bdea5e",
   "metadata": {},
   "outputs": [
    {
     "data": {
      "image/png": "[encoded data removed]",
      "text/plain": [
       "<Figure size 432x288 with 1 Axes>"
      ]
     },
     "metadata": {
      "needs_background": "light"
     },
     "output_type": "display_data"
    }
   ],
   "source": [
    "#Dealing with Distance Outliers\n",
    "#Median Imputation\n",
    "Q1 = df['Distance'].quantile(0.25)\n",
    "Q3 = df['Distance'].quantile(0.75)\n",
    "IQR = Q3-Q1\n",
    "Lower = Q1 - 1.5 * IQR\n",
    "Upper = Q3 + 1.5 * IQR\n",
    "med = np.median(df['Distance'])\n",
    "for i in df['Distance']:\n",
    "    if i > Upper or i < Lower:\n",
    "            df['Distance'] = df['Distance'].replace(i, med)\n",
    "sns.boxplot(df['Distance'])\n",
    "plt.title(\"Box Plot after median imputation\")\n",
    "plt.show() "
   ]
  },
  {
   "cell_type": "code",
   "execution_count": 34,
   "id": "c57430f2",
   "metadata": {},
   "outputs": [
    {
     "data": {
      "image/png": "[encoded data removed]",
      "text/plain": [
       "<Figure size 432x288 with 1 Axes>"
      ]
     },
     "metadata": {
      "needs_background": "light"
     },
     "output_type": "display_data"
    }
   ],
   "source": [
    "#Dealing with Outliers\n",
    "#Median Imputation\n",
    "Q1 = df['Landsize'].quantile(0.25)\n",
    "Q3 = df['Landsize'].quantile(0.75)\n",
    "IQR = Q3-Q1\n",
    "Lower = Q1 - 1.5 * IQR\n",
    "Upper = Q3 + 1.5 * IQR\n",
    "med = np.median(df['Landsize'])\n",
    "for i in df['Landsize']:\n",
    "    if i > Upper or i < Lower:\n",
    "            df['Landsize'] = df['Landsize'].replace(i, med)\n",
    "sns.boxplot(df['Landsize'])\n",
    "plt.title(\"Box Plot after median imputation\")\n",
    "plt.show() "
   ]
  },
  {
   "cell_type": "code",
   "execution_count": 33,
   "id": "b3d7e1c9",
   "metadata": {},
   "outputs": [
    {
     "data": {
      "image/png": "[encoded data removed]",
      "text/plain": [
       "<Figure size 432x288 with 1 Axes>"
      ]
     },
     "metadata": {
      "needs_background": "light"
     },
     "output_type": "display_data"
    }
   ],
   "source": [
    "#Dealing with YearBuilt Outliers\n",
    "#Median Imputation\n",
    "Q1 = df['YearBuilt'].quantile(0.25)\n",
    "Q3 = df['YearBuilt'].quantile(0.75)\n",
    "IQR = Q3-Q1\n",
    "Lower = Q1 - 1.5 * IQR\n",
    "Upper = Q3 + 1.5 * IQR\n",
    "med = np.median(df['YearBuilt'])\n",
    "for i in df['YearBuilt']:\n",
    "    if i > Upper or i < Lower:\n",
    "            df['YearBuilt'] = df['YearBuilt'].replace(i, med)\n",
    "sns.boxplot(df['YearBuilt'])\n",
    "plt.title(\"Box Plot after median imputation\")\n",
    "plt.show() "
   ]
  },
  {
   "cell_type": "code",
   "execution_count": 34,
   "id": "f1f19157",
   "metadata": {},
   "outputs": [
    {
     "data": {
      "image/png": "[encoded data removed]",
      "text/plain": [
       "<Figure size 432x288 with 1 Axes>"
      ]
     },
     "metadata": {
      "needs_background": "light"
     },
     "output_type": "display_data"
    }
   ],
   "source": [
    "#Dealing with Car Outliers\n",
    "#Median Imputation\n",
    "Q1 = df['Car'].quantile(0.25)\n",
    "Q3 = df['Car'].quantile(0.75)\n",
    "IQR = Q3-Q1\n",
    "Lower = Q1 - 1.5 * IQR\n",
    "Upper = Q3 + 1.5 * IQR\n",
    "meen = np.mean(df['Car'])\n",
    "for i in df['Car']:\n",
    "    if i > Upper or i < Lower:\n",
    "            df['Car'] = df['Car'].replace(i, meen)\n",
    "sns.boxplot(df['Car'])\n",
    "plt.title(\"Box Plot after median imputation\")\n",
    "plt.show() "
   ]
  },
  {
   "cell_type": "code",
   "execution_count": 35,
   "id": "4fdc6f7a",
   "metadata": {},
   "outputs": [
    {
     "data": {
      "text/plain": [
       "Southern Metropolitan         3739\n",
       "Northern Metropolitan         3520\n",
       "Western Metropolitan          2668\n",
       "Eastern Metropolitan          1364\n",
       "South-Eastern Metropolitan     555\n",
       "Northern Victoria               90\n",
       "Eastern Victoria                76\n",
       "Western Victoria                63\n",
       "Name: Regionname, dtype: int64"
      ]
     },
     "execution_count": 35,
     "metadata": {},
     "output_type": "execute_result"
    }
   ],
   "source": [
    "df['Regionname'].value_counts()"
   ]
  },
  {
   "cell_type": "code",
   "execution_count": 36,
   "id": "8039d03f",
   "metadata": {},
   "outputs": [],
   "source": [
    "from sklearn.linear_model import LinearRegression # Linear Regression\n",
    "from sklearn.model_selection import train_test_split #for split the data\n",
    "from sklearn.metrics import mean_squared_error\n",
    "from sklearn import metrics"
   ]
  },
  {
   "cell_type": "code",
   "execution_count": 59,
   "id": "0ef980de",
   "metadata": {},
   "outputs": [],
   "source": [
    "df1 = df.copy()"
   ]
  },
  {
   "cell_type": "code",
   "execution_count": 60,
   "id": "ef6b95f0",
   "metadata": {},
   "outputs": [],
   "source": [
    "df1.drop(['Date', 'Address'], axis = 1, inplace = True)"
   ]
  },
  {
   "cell_type": "code",
   "execution_count": 61,
   "id": "44135cfc",
   "metadata": {},
   "outputs": [],
   "source": [
    "df1 = pd.get_dummies(df1, columns = ['Suburb', 'Rooms', 'Type', 'Method', 'SellerG','CouncilArea', 'Regionname'], drop_first=True)"
   ]
  },
  {
   "cell_type": "code",
   "execution_count": 62,
   "id": "1e7b6bb9",
   "metadata": {},
   "outputs": [],
   "source": [
    "#Split the Data Set\n",
    "X = df1.drop('Price', axis=1)"
   ]
  },
  {
   "cell_type": "code",
   "execution_count": 63,
   "id": "8e01272f",
   "metadata": {},
   "outputs": [],
   "source": [
    "Y = df1['Price']"
   ]
  },
  {
   "cell_type": "code",
   "execution_count": 51,
   "id": "a62bd737",
   "metadata": {},
   "outputs": [
    {
     "name": "stdout",
     "output_type": "stream",
     "text": [
      "<class 'pandas.core.frame.DataFrame'>\n",
      "Int64Index: 12075 entries, 2 to 34856\n",
      "Data columns (total 19 columns):\n",
      " #   Column         Non-Null Count  Dtype  \n",
      "---  ------         --------------  -----  \n",
      " 0   Suburb         12075 non-null  object \n",
      " 1   Rooms          12075 non-null  int64  \n",
      " 2   Type           12075 non-null  object \n",
      " 3   Price          12075 non-null  float64\n",
      " 4   Method         12075 non-null  object \n",
      " 5   SellerG        12075 non-null  object \n",
      " 6   Distance       12075 non-null  float64\n",
      " 7   Postcode       12075 non-null  float64\n",
      " 8   Bedroom2       12075 non-null  float64\n",
      " 9   Bathroom       12075 non-null  float64\n",
      " 10  Car            12075 non-null  float64\n",
      " 11  Landsize       12075 non-null  float64\n",
      " 12  BuildingArea   12075 non-null  float64\n",
      " 13  YearBuilt      12075 non-null  float64\n",
      " 14  CouncilArea    12075 non-null  object \n",
      " 15  Lattitude      12075 non-null  float64\n",
      " 16  Longtitude     12075 non-null  float64\n",
      " 17  Regionname     12075 non-null  object \n",
      " 18  Propertycount  12075 non-null  float64\n",
      "dtypes: float64(12), int64(1), object(6)\n",
      "memory usage: 1.8+ MB\n"
     ]
    }
   ],
   "source": [
    "df1.info()"
   ]
  },
  {
   "cell_type": "code",
   "execution_count": 64,
   "id": "059d3d3d",
   "metadata": {},
   "outputs": [],
   "source": [
    "X_train, X_test, Y_train, Y_test = train_test_split(X, Y, test_size=0.3)"
   ]
  },
  {
   "cell_type": "code",
   "execution_count": 71,
   "id": "2c1108ab",
   "metadata": {},
   "outputs": [],
   "source": [
    "lr = LinearRegression()\n",
    "lr.fit(X_train, Y_train)\n",
    "\n",
    "# Predicting the Test set results\n",
    "y_hat = lr.predict(X_test)"
   ]
  },
  {
   "cell_type": "code",
   "execution_count": 72,
   "id": "689b97ad",
   "metadata": {},
   "outputs": [
    {
     "name": "stdout",
     "output_type": "stream",
     "text": [
      "MSE: 75159277230.2038\n"
     ]
    }
   ],
   "source": [
    "print('MSE:', metrics.mean_squared_error(Y_test, y_hat))"
   ]
  },
  {
   "cell_type": "code",
   "execution_count": 67,
   "id": "34281a7c",
   "metadata": {},
   "outputs": [],
   "source": [
    "df2=df.copy()"
   ]
  },
  {
   "cell_type": "code",
   "execution_count": 105,
   "id": "02ba84f5",
   "metadata": {},
   "outputs": [],
   "source": [
    "#Linear Regression Using only Numerical Data\n",
    "X= df2[['Rooms', 'Distance', 'Bedroom2', 'Bathroom', 'Car', 'Landsize','BuildingArea', 'Lattitude', 'Longtitude','Propertycount']]\n",
    "y = df2['Price']\n",
    "X_train, X_test, y_train, y_test = train_test_split(X, y, test_size=0.3)"
   ]
  },
  {
   "cell_type": "code",
   "execution_count": 107,
   "id": "b4a20dfb",
   "metadata": {},
   "outputs": [],
   "source": [
    "lr = LinearRegression()\n",
    "lr.fit(X_train, y_train)\n",
    "\n",
    "# Predicting the Test set results\n",
    "y_pred = lr.predict(X_test)"
   ]
  },
  {
   "cell_type": "code",
   "execution_count": 108,
   "id": "2b580f52",
   "metadata": {},
   "outputs": [
    {
     "name": "stdout",
     "output_type": "stream",
     "text": [
      "MSE: 133322573560.25842\n"
     ]
    }
   ],
   "source": [
    "print('MSE:', metrics.mean_squared_error(y_test, y_pred))"
   ]
  },
  {
   "cell_type": "code",
   "execution_count": 113,
   "id": "4dd2e1b5",
   "metadata": {},
   "outputs": [
    {
     "data": {
      "text/html": [
       "<div>\n",
       "<style scoped>\n",
       "    .dataframe tbody tr th:only-of-type {\n",
       "        vertical-align: middle;\n",
       "    }\n",
       "\n",
       "    .dataframe tbody tr th {\n",
       "        vertical-align: top;\n",
       "    }\n",
       "\n",
       "    .dataframe thead th {\n",
       "        text-align: right;\n",
       "    }\n",
       "</style>\n",
       "<table border=\"1\" class=\"dataframe\">\n",
       "  <thead>\n",
       "    <tr style=\"text-align: right;\">\n",
       "      <th></th>\n",
       "      <th>Actual</th>\n",
       "      <th>Predicted</th>\n",
       "    </tr>\n",
       "  </thead>\n",
       "  <tbody>\n",
       "    <tr>\n",
       "      <th>8728</th>\n",
       "      <td>935000.0</td>\n",
       "      <td>1442553.27</td>\n",
       "    </tr>\n",
       "    <tr>\n",
       "      <th>285</th>\n",
       "      <td>781000.0</td>\n",
       "      <td>845064.92</td>\n",
       "    </tr>\n",
       "    <tr>\n",
       "      <th>25094</th>\n",
       "      <td>1165000.0</td>\n",
       "      <td>1027746.17</td>\n",
       "    </tr>\n",
       "    <tr>\n",
       "      <th>30873</th>\n",
       "      <td>700500.0</td>\n",
       "      <td>795851.37</td>\n",
       "    </tr>\n",
       "    <tr>\n",
       "      <th>23665</th>\n",
       "      <td>955000.0</td>\n",
       "      <td>876624.50</td>\n",
       "    </tr>\n",
       "    <tr>\n",
       "      <th>20043</th>\n",
       "      <td>864000.0</td>\n",
       "      <td>930642.55</td>\n",
       "    </tr>\n",
       "    <tr>\n",
       "      <th>29611</th>\n",
       "      <td>455000.0</td>\n",
       "      <td>661777.90</td>\n",
       "    </tr>\n",
       "    <tr>\n",
       "      <th>31782</th>\n",
       "      <td>772000.0</td>\n",
       "      <td>974534.52</td>\n",
       "    </tr>\n",
       "    <tr>\n",
       "      <th>20252</th>\n",
       "      <td>400000.0</td>\n",
       "      <td>399241.02</td>\n",
       "    </tr>\n",
       "    <tr>\n",
       "      <th>10161</th>\n",
       "      <td>990000.0</td>\n",
       "      <td>1164168.47</td>\n",
       "    </tr>\n",
       "  </tbody>\n",
       "</table>\n",
       "</div>"
      ],
      "text/plain": [
       "          Actual   Predicted\n",
       "8728    935000.0  1442553.27\n",
       "285     781000.0   845064.92\n",
       "25094  1165000.0  1027746.17\n",
       "30873   700500.0   795851.37\n",
       "23665   955000.0   876624.50\n",
       "20043   864000.0   930642.55\n",
       "29611   455000.0   661777.90\n",
       "31782   772000.0   974534.52\n",
       "20252   400000.0   399241.02\n",
       "10161   990000.0  1164168.47"
      ]
     },
     "execution_count": 113,
     "metadata": {},
     "output_type": "execute_result"
    }
   ],
   "source": [
    "# Compare predicted and actual values\n",
    "comp = pd.DataFrame({'Actual': np.round(y_test, 2), \n",
    "                   'Predicted': np.round(y_pred, 2)})\n",
    "comp.head(10)"
   ]
  },
  {
   "cell_type": "code",
   "execution_count": 76,
   "id": "071c4424",
   "metadata": {},
   "outputs": [
    {
     "data": {
      "text/html": [
       "<div>\n",
       "<style scoped>\n",
       "    .dataframe tbody tr th:only-of-type {\n",
       "        vertical-align: middle;\n",
       "    }\n",
       "\n",
       "    .dataframe tbody tr th {\n",
       "        vertical-align: top;\n",
       "    }\n",
       "\n",
       "    .dataframe thead th {\n",
       "        text-align: right;\n",
       "    }\n",
       "</style>\n",
       "<table border=\"1\" class=\"dataframe\">\n",
       "  <thead>\n",
       "    <tr style=\"text-align: right;\">\n",
       "      <th></th>\n",
       "      <th>Actual</th>\n",
       "      <th>Predicted</th>\n",
       "    </tr>\n",
       "  </thead>\n",
       "  <tbody>\n",
       "    <tr>\n",
       "      <th>19406</th>\n",
       "      <td>1225000.0</td>\n",
       "      <td>1353139.59</td>\n",
       "    </tr>\n",
       "    <tr>\n",
       "      <th>3386</th>\n",
       "      <td>870000.0</td>\n",
       "      <td>961192.50</td>\n",
       "    </tr>\n",
       "    <tr>\n",
       "      <th>13879</th>\n",
       "      <td>650000.0</td>\n",
       "      <td>634094.30</td>\n",
       "    </tr>\n",
       "    <tr>\n",
       "      <th>832</th>\n",
       "      <td>520000.0</td>\n",
       "      <td>541180.19</td>\n",
       "    </tr>\n",
       "    <tr>\n",
       "      <th>1218</th>\n",
       "      <td>851000.0</td>\n",
       "      <td>947460.06</td>\n",
       "    </tr>\n",
       "    <tr>\n",
       "      <th>34434</th>\n",
       "      <td>660500.0</td>\n",
       "      <td>631793.45</td>\n",
       "    </tr>\n",
       "    <tr>\n",
       "      <th>19295</th>\n",
       "      <td>615000.0</td>\n",
       "      <td>533229.81</td>\n",
       "    </tr>\n",
       "    <tr>\n",
       "      <th>13399</th>\n",
       "      <td>800000.0</td>\n",
       "      <td>981625.88</td>\n",
       "    </tr>\n",
       "    <tr>\n",
       "      <th>14136</th>\n",
       "      <td>985100.0</td>\n",
       "      <td>1032187.59</td>\n",
       "    </tr>\n",
       "    <tr>\n",
       "      <th>14948</th>\n",
       "      <td>716000.0</td>\n",
       "      <td>1180726.54</td>\n",
       "    </tr>\n",
       "  </tbody>\n",
       "</table>\n",
       "</div>"
      ],
      "text/plain": [
       "          Actual   Predicted\n",
       "19406  1225000.0  1353139.59\n",
       "3386    870000.0   961192.50\n",
       "13879   650000.0   634094.30\n",
       "832     520000.0   541180.19\n",
       "1218    851000.0   947460.06\n",
       "34434   660500.0   631793.45\n",
       "19295   615000.0   533229.81\n",
       "13399   800000.0   981625.88\n",
       "14136   985100.0  1032187.59\n",
       "14948   716000.0  1180726.54"
      ]
     },
     "execution_count": 76,
     "metadata": {},
     "output_type": "execute_result"
    }
   ],
   "source": [
    "# Compare predicted and actual values\n",
    "comp = pd.DataFrame({'Actual': np.round(Y_test, 2), \n",
    "                   'Predicted': np.round(y_hat, 2)})\n",
    "comp.head(10)"
   ]
  },
  {
   "cell_type": "code",
   "execution_count": null,
   "id": "d0f41091",
   "metadata": {},
   "outputs": [],
   "source": []
  }
 ],
 "metadata": {
  "kernelspec": {
   "display_name": "Python 3 (ipykernel)",
   "language": "python",
   "name": "python3"
  },
  "language_info": {
   "codemirror_mode": {
    "name": "ipython",
    "version": 3
   },
   "file_extension": ".py",
   "mimetype": "text/x-python",
   "name": "python",
   "nbconvert_exporter": "python",
   "pygments_lexer": "ipython3",
   "version": "3.9.7"
  }
 },
 "nbformat": 4,
 "nbformat_minor": 5
}
